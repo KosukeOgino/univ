{
 "cells": [
  {
   "cell_type": "code",
   "execution_count": 1,
   "metadata": {},
   "outputs": [],
   "source": [
    "import numpy as np\n",
    "import pandas as pd\n",
    "\n",
    "from sklearn.linear_model import LinearRegression\n",
    "from sklearn.metrics import mean_squared_error\n",
    "from sklearn.svm import SVR\n",
    "from sklearn.model_selection import train_test_split\n",
    "\n",
    "import xgboost as xgb"
   ]
  },
  {
   "cell_type": "code",
   "execution_count": 2,
   "metadata": {},
   "outputs": [],
   "source": [
    "## 読み込み\n",
    "df_train = pd.read_csv(\"train_set.csv\", low_memory=False)\n",
    "df_test = pd.read_csv(\"test_set.csv\", low_memory=False)"
   ]
  },
  {
   "cell_type": "code",
   "execution_count": 12,
   "metadata": {},
   "outputs": [],
   "source": [
    "## xの前処理を定義\n",
    "def data_x_preprocessor(df_train, df_test, num_var=None, cat_var=None):\n",
    "    df_x = pd.concat([df_train, df_test], axis=0)\n",
    "    df_x = pd.concat([df_x[num_var], pd.get_dummies(df_x[cat_var])], axis=1)\n",
    "    df_train_x = df_x.iloc[:df_train.shape[0],:]\n",
    "    df_test_x  = df_x.iloc[df_train.shape[0]:,:]\n",
    "    return df_train_x, df_test_x\n",
    "\n",
    "## モデルの準備\n",
    "def train_and_predict(x_train, y_train, x_test):\n",
    "    clf = xgb.XGBRegressor(\n",
    "        learning_rate=0.01,\n",
    "        n_estimators=10000,\n",
    "        max_depth=6\n",
    "    )\n",
    "    ## 学習\n",
    "    clf.fit(x_train, np.log(y_train))\n",
    "    ## 予測\n",
    "    y_pred = clf.predict(x_test)\n",
    "    return clf, y_pred"
   ]
  },
  {
   "cell_type": "code",
   "execution_count": 13,
   "metadata": {},
   "outputs": [],
   "source": [
    "## xの準備\n",
    "num_var = [\"BATHRM\", \"EYB\", \"LONGITUDE\", \"FIREPLACES\", \"SALE_NUM\", \"CMPLX_NUM\", \"CENSUS_TRACT\", \"LIVING_GBA\"]\n",
    "cat_var = [\"QUADRANT\", \"CNDTN\", \"WARD\", \"AC\", \"QUALIFIED\"]\n",
    "df_train_x, df_test_x = data_x_preprocessor(df_train.iloc[:,:-1], df_test, \n",
    "                                            num_var=num_var, cat_var=cat_var)\n",
    "\n",
    "## yの準備\n",
    "df_train_y = df_train[[\"PRICE\"]]"
   ]
  },
  {
   "cell_type": "code",
   "execution_count": null,
   "metadata": {},
   "outputs": [],
   "source": [
    "#### 検証用のやつ\n",
    "## 検証用にデータを準備\n",
    "x_train, x_valid, y_train, y_valid = train_test_split(df_train_x, df_train_y,\n",
    "                                                      test_size=0.2, random_state=123)\n",
    "\n",
    "## 予測\n",
    "clf, y_pred = train_and_predict(x_train, y_train, x_valid)\n",
    "\n",
    "## 結果\n",
    "mse = mean_squared_error(y_pred, np.log(y_valid))\n",
    "# mse\n",
    "print(\"MSE\", mse)\n",
    "# 比較\n",
    "df_valid_pred = pd.DataFrame(np.exp(y_pred), index=x_valid.index, columns=[\"PRED\"])\n",
    "display(pd.concat([y_valid.astype(int), df_valid_pred.astype(int)], axis=1).head(20))"
   ]
  },
  {
   "cell_type": "code",
   "execution_count": 14,
   "metadata": {},
   "outputs": [],
   "source": [
    "#### submit用のやつ\n",
    "## 予測\n",
    "xgb, y_submit = train_and_predict(df_train_x, df_train_y, df_test_x)\n",
    "\n",
    "## 保存\n",
    "df_submit = pd.DataFrame(np.exp(y_submit), index=df_test[\"Id\"], columns=[\"PRICE\"])\n",
    "df_submit.to_csv(\"./submit.csv\", header=True, index_label=\"Id\")"
   ]
  },
  {
   "cell_type": "code",
   "execution_count": null,
   "metadata": {},
   "outputs": [],
   "source": [
    "xgb.plot_importance(clf, importance_type='gain', title= \"Feature importance - gain\", xlabel= None, ylabel=\"説明変数\",  max_num_features=30)"
   ]
  }
 ],
 "metadata": {
  "kernelspec": {
   "display_name": "Python 3",
   "language": "python",
   "name": "python3"
  },
  "language_info": {
   "codemirror_mode": {
    "name": "ipython",
    "version": 3
   },
   "file_extension": ".py",
   "mimetype": "text/x-python",
   "name": "python",
   "nbconvert_exporter": "python",
   "pygments_lexer": "ipython3",
   "version": "3.6.6"
  }
 },
 "nbformat": 4,
 "nbformat_minor": 2
}
