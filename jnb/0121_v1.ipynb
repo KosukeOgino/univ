{
 "cells": [
  {
   "cell_type": "code",
   "execution_count": 4,
   "metadata": {},
   "outputs": [],
   "source": [
    "import sys\n",
    "sys.path.append(\"../\")\n",
    "\n",
    "import numpy as np\n",
    "import pandas as pd\n",
    "\n",
    "from src.utils import DataPreprocessor as DP\n",
    "from src.models import ManshionBrothers as MB"
   ]
  },
  {
   "cell_type": "code",
   "execution_count": 2,
   "metadata": {},
   "outputs": [],
   "source": [
    "dp = DP()\n",
    "dp.load_csv(\"../data/train_set.csv\", \"../data/test_set.csv\")\n",
    "dp.set_cols(num_cols=[\"BATHRM\", \"EYB\"], cat_cols=[\"QUADRANT\"])\n",
    "dp.compile()\n",
    "\n",
    "x_train, x_valid, y_train, y_valid = dp.get_validation_data()"
   ]
  },
  {
   "cell_type": "code",
   "execution_count": 11,
   "metadata": {},
   "outputs": [
    {
     "name": "stdout",
     "output_type": "stream",
     "text": [
      "MSE : 0.5460910902427719\n",
      "MSLE: 0.003746263603971895\n"
     ]
    }
   ],
   "source": [
    "mb = MB()\n",
    "# mb.compile(models=[[\"LGB\",{\"n_estimator\":3000}]])\n",
    "mb.compile(models=[[\"LGB\",{\"n_estimator\":3000}], \"XGB\"])\n",
    "mb.train(x_train, np.log1p(y_train))\n",
    "\n",
    "y_pred = mb.predict(x_valid)\n",
    "\n",
    "_, _ = mb.evaluate(np.log1p(y_valid), y_pred)"
   ]
  },
  {
   "cell_type": "code",
   "execution_count": null,
   "metadata": {},
   "outputs": [],
   "source": []
  }
 ],
 "metadata": {
  "kernelspec": {
   "display_name": "Python 3",
   "language": "python",
   "name": "python3"
  },
  "language_info": {
   "codemirror_mode": {
    "name": "ipython",
    "version": 3
   },
   "file_extension": ".py",
   "mimetype": "text/x-python",
   "name": "python",
   "nbconvert_exporter": "python",
   "pygments_lexer": "ipython3",
   "version": "3.6.7"
  }
 },
 "nbformat": 4,
 "nbformat_minor": 2
}
