{
 "cells": [
  {
   "cell_type": "code",
   "execution_count": 1,
   "metadata": {},
   "outputs": [],
   "source": [
    "import warnings\n",
    "def ignore_warn(*args, **kwargs):\n",
    "    pass\n",
    "warnings.warn = ignore_warn #ignore annoying warning (from sklearn and seaborn)\n",
    "\n",
    "import numpy as np\n",
    "import pandas as pd\n",
    "\n",
    "%matplotlib inline\n",
    "import matplotlib.pyplot as plt  # Matlab-style plotting\n",
    "import seaborn as sns\n",
    "color = sns.color_palette()\n",
    "sns.set_style('darkgrid')\n",
    "\n",
    "from scipy import stats\n",
    "from scipy.stats import norm, skew #for some statistics"
   ]
  },
  {
   "cell_type": "code",
   "execution_count": 2,
   "metadata": {},
   "outputs": [],
   "source": [
    "## データ読み込み\n",
    "train_org = pd.read_csv(\"../data/train_set.csv\", low_memory=False)\n",
    "test_org = pd.read_csv(\"../data/test_set.csv\", low_memory=False)"
   ]
  },
  {
   "cell_type": "code",
   "execution_count": 3,
   "metadata": {},
   "outputs": [],
   "source": [
    "## データの準備\n",
    "df_all = pd.concat([train_org, test_org], axis=0).reset_index(drop=True)\n",
    "df_all = df_all.drop([\"PRICE\"], axis=1)\n",
    "\n",
    "all_r = df_all.query('SOURCE==\"Residential\"')\n",
    "all_c = df_all.query('SOURCE==\"Condominium\"')"
   ]
  },
  {
   "cell_type": "code",
   "execution_count": 4,
   "metadata": {},
   "outputs": [],
   "source": [
    "## 欠損値補完の際に不要と判明したカラムを除去\n",
    "useless_cols_r = [\"Id\",\"ASSESSMENT_SUBNBHD\",\"FULLADDRESS\",\"NATIONALGRID\",\n",
    "                  \"CENSUS_BLOCK\",\"CITY\",\"STATE\",\"X\",\"Y\",\"QUADRANT\"]\n",
    "useless_cols_c = [\"Id\",\"ASSESSMENT_SUBNBHD\"]\n",
    "\n",
    "for c in useless_cols_r:\n",
    "    all_r.drop([c], axis=1, inplace=True)\n",
    "\n",
    "for c in useless_cols_c:\n",
    "    all_c.drop([c], axis=1, inplace=True)"
   ]
  },
  {
   "cell_type": "code",
   "execution_count": 5,
   "metadata": {},
   "outputs": [
    {
     "name": "stdout",
     "output_type": "stream",
     "text": [
      "CMPLX_NUM\n",
      "GIS_LAST_MOD_DTTM\n",
      "LIVING_GBA\n",
      "SOURCE\n",
      "~~~~~~~~~~~~~~~~~~~~~~~~~~~~~~\n",
      "BLDG_NUM\n",
      "CENSUS_BLOCK\n",
      "CITY\n",
      "CNDTN\n",
      "EXTWALL\n",
      "FULLADDRESS\n",
      "GBA\n",
      "GIS_LAST_MOD_DTTM\n",
      "GRADE\n",
      "INTWALL\n",
      "KITCHENS\n",
      "NATIONALGRID\n",
      "NUM_UNITS\n",
      "ROOF\n",
      "SOURCE\n",
      "STATE\n",
      "STORIES\n",
      "STRUCT\n",
      "STYLE\n"
     ]
    }
   ],
   "source": [
    "## そのほか、ユニークなデータ数を確認、１つしかない(欠損Onlyも含む)物は除去\n",
    "for c in all_r.columns:\n",
    "    if len(all_r[c].dropna().unique()) <= 1:\n",
    "        print(c)\n",
    "        all_r.drop([c], axis=1, inplace=True)\n",
    "\n",
    "print(\"~\"*30)\n",
    "\n",
    "for c in all_c.columns:\n",
    "    if len(all_c[c].dropna().unique()) <= 1:\n",
    "        print(c)\n",
    "        all_c.drop([c], axis=1, inplace=True)"
   ]
  },
  {
   "cell_type": "code",
   "execution_count": 6,
   "metadata": {},
   "outputs": [],
   "source": [
    "## 数値とカテゴリの仕分け\n",
    "# all_r.info()\n",
    "\n",
    "nc_resi = []\n",
    "cc_resi = []\n",
    "for c in all_r.columns:\n",
    "    if all_r[c].dtype in (np.int64, np.float64):\n",
    "        nc_resi.append(c)\n",
    "    else:\n",
    "        cc_resi.append(c)\n",
    "\n",
    "nc_cond = []\n",
    "cc_cond = []\n",
    "for c in all_c.columns:\n",
    "    if all_c[c].dtype in (np.int64, np.float64):\n",
    "        nc_cond.append(c)\n",
    "    else:\n",
    "        cc_cond.append(c)\n",
    "        \n",
    "## 数値の中で、本当はカテゴリカルなデータを移動\n",
    "col_move = [\"SALE_NUM\", \"USECODE\", \"ZIPCODE\"]\n",
    "for c in col_move:\n",
    "    nc_resi.remove(c)\n",
    "    cc_resi.append(c)\n",
    "    nc_cond.remove(c)\n",
    "    cc_cond.append(c)"
   ]
  },
  {
   "cell_type": "code",
   "execution_count": 7,
   "metadata": {},
   "outputs": [
    {
     "name": "stdout",
     "output_type": "stream",
     "text": [
      "Resi\n",
      "AC 3\n",
      "ASSESSMENT_NBHD 55\n",
      "CNDTN 7\n",
      "EXTWALL 24\n",
      "GRADE 13\n",
      "HEAT 14\n",
      "INTWALL 12\n",
      "QUALIFIED 2\n",
      "ROOF 16\n",
      "SALEDATE 6440\n",
      "SQUARE 3119\n",
      "STRUCT 8\n",
      "STYLE 18\n",
      "WARD 8\n",
      "SALE_NUM 15\n",
      "USECODE 8\n",
      "ZIPCODE 21\n",
      "\n",
      "Cond\n",
      "AC 3\n",
      "ASSESSMENT_NBHD 47\n",
      "HEAT 14\n",
      "QUADRANT 4\n",
      "QUALIFIED 2\n",
      "SALEDATE 5623\n",
      "SQUARE 998\n",
      "WARD 8\n",
      "SALE_NUM 10\n",
      "USECODE 4\n",
      "ZIPCODE 23\n"
     ]
    }
   ],
   "source": [
    "## カテゴリデータのユニークな数チェック\n",
    "print(\"Resi\")\n",
    "for c in cc_resi:\n",
    "    print(c, len(all_r[c].unique()))\n",
    "\n",
    "print()\n",
    "    \n",
    "print(\"Cond\")\n",
    "for c in cc_cond:\n",
    "    print(c, len(all_c[c].unique()))"
   ]
  },
  {
   "cell_type": "code",
   "execution_count": 8,
   "metadata": {},
   "outputs": [],
   "source": [
    "## ひとまず多すぎるSALEDATEとSQUAREを除去\n",
    "all_r.drop([\"SALEDATE\",\"SQUARE\"], axis=1, inplace=True)\n",
    "all_c.drop([\"SALEDATE\",\"SQUARE\"], axis=1, inplace=True)"
   ]
  },
  {
   "cell_type": "code",
   "execution_count": 9,
   "metadata": {},
   "outputs": [
    {
     "data": {
      "text/plain": [
       "['AC',\n",
       " 'ASSESSMENT_NBHD',\n",
       " 'HEAT',\n",
       " 'QUADRANT',\n",
       " 'QUALIFIED',\n",
       " 'SALEDATE',\n",
       " 'SQUARE',\n",
       " 'WARD',\n",
       " 'SALE_NUM',\n",
       " 'USECODE',\n",
       " 'ZIPCODE']"
      ]
     },
     "execution_count": 9,
     "metadata": {},
     "output_type": "execute_result"
    }
   ],
   "source": [
    "## 残ったカラムを精査\n",
    "# list(all_r.columns)\n",
    "cc_cond"
   ]
  },
  {
   "cell_type": "code",
   "execution_count": null,
   "metadata": {},
   "outputs": [],
   "source": []
  }
 ],
 "metadata": {
  "kernelspec": {
   "display_name": "Python 3",
   "language": "python",
   "name": "python3"
  },
  "language_info": {
   "codemirror_mode": {
    "name": "ipython",
    "version": 3
   },
   "file_extension": ".py",
   "mimetype": "text/x-python",
   "name": "python",
   "nbconvert_exporter": "python",
   "pygments_lexer": "ipython3",
   "version": "3.6.7"
  }
 },
 "nbformat": 4,
 "nbformat_minor": 2
}
