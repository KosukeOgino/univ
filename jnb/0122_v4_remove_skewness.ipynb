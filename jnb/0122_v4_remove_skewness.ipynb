{
 "cells": [
  {
   "cell_type": "code",
   "execution_count": 17,
   "metadata": {},
   "outputs": [],
   "source": [
    "import warnings\n",
    "def ignore_warn(*args, **kwargs):\n",
    "    pass\n",
    "warnings.warn = ignore_warn #ignore annoying warning (from sklearn and seaborn)\n",
    "\n",
    "import numpy as np\n",
    "import pandas as pd\n",
    "\n",
    "%matplotlib inline\n",
    "import matplotlib.pyplot as plt  # Matlab-style plotting\n",
    "import seaborn as sns\n",
    "color = sns.color_palette()\n",
    "sns.set_style('darkgrid')\n",
    "\n",
    "from scipy import stats\n",
    "from scipy.stats import norm, skew #for some statistics\n",
    "from scipy.special import boxcox1p"
   ]
  },
  {
   "cell_type": "code",
   "execution_count": 28,
   "metadata": {},
   "outputs": [],
   "source": [
    "## データ読み込み\n",
    "train_org = pd.read_csv(\"../data/train_set.csv\", low_memory=False)\n",
    "test_org = pd.read_csv(\"../data/test_set.csv\", low_memory=False)"
   ]
  },
  {
   "cell_type": "code",
   "execution_count": 29,
   "metadata": {},
   "outputs": [],
   "source": [
    "## データの準備\n",
    "df_all = pd.concat([train_org, test_org], axis=0).reset_index(drop=True)\n",
    "df_all = df_all.drop([\"PRICE\"], axis=1)\n",
    "\n",
    "all_r = df_all.query('SOURCE==\"Residential\"')\n",
    "all_c = df_all.query('SOURCE==\"Condominium\"')"
   ]
  },
  {
   "cell_type": "code",
   "execution_count": 30,
   "metadata": {},
   "outputs": [],
   "source": [
    "nc_resi = ['AYB',\n",
    "'BATHRM',\n",
    "'BEDRM',\n",
    "'BLDG_NUM',\n",
    "# 'CENSUS_TRACT',\n",
    "'EYB',\n",
    "'FIREPLACES',\n",
    "'GBA',\n",
    "'HF_BATHRM',\n",
    "'KITCHENS',\n",
    "'LANDAREA',\n",
    "'LATITUDE',\n",
    "'LONGITUDE',\n",
    "'NUM_UNITS',\n",
    "'ROOMS',\n",
    "'STORIES',\n",
    "'YR_RMDL']\n",
    "\n",
    "nc_cond = ['AYB',\n",
    "'BATHRM',\n",
    "'BEDRM',\n",
    "# 'CENSUS_TRACT',\n",
    "'CMPLX_NUM',\n",
    "'EYB',\n",
    "'FIREPLACES',\n",
    "'HF_BATHRM',\n",
    "'LANDAREA',\n",
    "'LATITUDE',\n",
    "'LIVING_GBA',\n",
    "'LONGITUDE',\n",
    "'ROOMS',\n",
    "# 'X',\n",
    "# 'Y',\n",
    "'YR_RMDL']"
   ]
  },
  {
   "cell_type": "code",
   "execution_count": 31,
   "metadata": {},
   "outputs": [
    {
     "data": {
      "text/html": [
       "<div>\n",
       "<style scoped>\n",
       "    .dataframe tbody tr th:only-of-type {\n",
       "        vertical-align: middle;\n",
       "    }\n",
       "\n",
       "    .dataframe tbody tr th {\n",
       "        vertical-align: top;\n",
       "    }\n",
       "\n",
       "    .dataframe thead th {\n",
       "        text-align: right;\n",
       "    }\n",
       "</style>\n",
       "<table border=\"1\" class=\"dataframe\">\n",
       "  <thead>\n",
       "    <tr style=\"text-align: right;\">\n",
       "      <th></th>\n",
       "      <th>Skew</th>\n",
       "    </tr>\n",
       "  </thead>\n",
       "  <tbody>\n",
       "    <tr>\n",
       "      <th>STORIES</th>\n",
       "      <td>172.654632</td>\n",
       "    </tr>\n",
       "    <tr>\n",
       "      <th>BLDG_NUM</th>\n",
       "      <td>64.286192</td>\n",
       "    </tr>\n",
       "    <tr>\n",
       "      <th>LANDAREA</th>\n",
       "      <td>10.783696</td>\n",
       "    </tr>\n",
       "    <tr>\n",
       "      <th>KITCHENS</th>\n",
       "      <td>7.355380</td>\n",
       "    </tr>\n",
       "    <tr>\n",
       "      <th>NUM_UNITS</th>\n",
       "      <td>3.277833</td>\n",
       "    </tr>\n",
       "    <tr>\n",
       "      <th>GBA</th>\n",
       "      <td>2.698246</td>\n",
       "    </tr>\n",
       "    <tr>\n",
       "      <th>FIREPLACES</th>\n",
       "      <td>2.110796</td>\n",
       "    </tr>\n",
       "    <tr>\n",
       "      <th>ROOMS</th>\n",
       "      <td>1.785954</td>\n",
       "    </tr>\n",
       "    <tr>\n",
       "      <th>BEDRM</th>\n",
       "      <td>1.542132</td>\n",
       "    </tr>\n",
       "    <tr>\n",
       "      <th>EYB</th>\n",
       "      <td>1.180026</td>\n",
       "    </tr>\n",
       "    <tr>\n",
       "      <th>BATHRM</th>\n",
       "      <td>0.975263</td>\n",
       "    </tr>\n",
       "    <tr>\n",
       "      <th>AYB</th>\n",
       "      <td>0.849949</td>\n",
       "    </tr>\n",
       "    <tr>\n",
       "      <th>HF_BATHRM</th>\n",
       "      <td>0.613540</td>\n",
       "    </tr>\n",
       "    <tr>\n",
       "      <th>LONGITUDE</th>\n",
       "      <td>-0.108350</td>\n",
       "    </tr>\n",
       "    <tr>\n",
       "      <th>LATITUDE</th>\n",
       "      <td>-0.273946</td>\n",
       "    </tr>\n",
       "  </tbody>\n",
       "</table>\n",
       "</div>"
      ],
      "text/plain": [
       "                  Skew\n",
       "STORIES     172.654632\n",
       "BLDG_NUM     64.286192\n",
       "LANDAREA     10.783696\n",
       "KITCHENS      7.355380\n",
       "NUM_UNITS     3.277833\n",
       "GBA           2.698246\n",
       "FIREPLACES    2.110796\n",
       "ROOMS         1.785954\n",
       "BEDRM         1.542132\n",
       "EYB           1.180026\n",
       "BATHRM        0.975263\n",
       "AYB           0.849949\n",
       "HF_BATHRM     0.613540\n",
       "LONGITUDE    -0.108350\n",
       "LATITUDE     -0.273946"
      ]
     },
     "execution_count": 31,
     "metadata": {},
     "output_type": "execute_result"
    }
   ],
   "source": [
    "resi_numeric_feats = all_r[nc_resi]\n",
    "\n",
    "skewed_feats = resi_numeric_feats.apply(lambda x: skew(x.dropna())).sort_values(ascending=False)\n",
    "\n",
    "skewness = pd.DataFrame({'Skew' :skewed_feats})\n",
    "skewness.head(15)"
   ]
  },
  {
   "cell_type": "code",
   "execution_count": 32,
   "metadata": {},
   "outputs": [],
   "source": [
    "skewness = skewness[abs(skewness) > 0.75]"
   ]
  },
  {
   "cell_type": "code",
   "execution_count": 36,
   "metadata": {},
   "outputs": [
    {
     "data": {
      "text/plain": [
       "['STORIES',\n",
       " 'BLDG_NUM',\n",
       " 'LANDAREA',\n",
       " 'KITCHENS',\n",
       " 'NUM_UNITS',\n",
       " 'GBA',\n",
       " 'FIREPLACES',\n",
       " 'ROOMS',\n",
       " 'BEDRM',\n",
       " 'EYB',\n",
       " 'BATHRM',\n",
       " 'AYB',\n",
       " 'HF_BATHRM',\n",
       " 'LONGITUDE',\n",
       " 'LATITUDE',\n",
       " 'YR_RMDL']"
      ]
     },
     "execution_count": 36,
     "metadata": {},
     "output_type": "execute_result"
    }
   ],
   "source": [
    "skewed_features = skewness.index\n",
    "\n",
    "list(skewed_features)"
   ]
  },
  {
   "cell_type": "code",
   "execution_count": 24,
   "metadata": {},
   "outputs": [],
   "source": [
    "skewed_features = skewness.index\n",
    "lam = 0.15\n",
    "for feat in skewed_features:\n",
    "    #all_data[feat] += 1\n",
    "    all_r[feat] = boxcox1p(all_r[feat], lam)"
   ]
  }
 ],
 "metadata": {
  "kernelspec": {
   "display_name": "Python 3",
   "language": "python",
   "name": "python3"
  },
  "language_info": {
   "codemirror_mode": {
    "name": "ipython",
    "version": 3
   },
   "file_extension": ".py",
   "mimetype": "text/x-python",
   "name": "python",
   "nbconvert_exporter": "python",
   "pygments_lexer": "ipython3",
   "version": "3.6.7"
  }
 },
 "nbformat": 4,
 "nbformat_minor": 2
}
