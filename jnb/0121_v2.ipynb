{
 "cells": [
  {
   "cell_type": "code",
   "execution_count": 2,
   "metadata": {},
   "outputs": [],
   "source": [
    "import sys\n",
    "sys.path.append(\"../\")\n",
    "\n",
    "from datetime import datetime as dt\n",
    "\n",
    "import numpy as np\n",
    "import pandas as pd\n",
    "\n",
    "from src.utils import DataPreprocessor as DP\n",
    "from src.utils import Postprocessor as PP\n",
    "from src.models import ManshionBrothers as MB"
   ]
  },
  {
   "cell_type": "code",
   "execution_count": 3,
   "metadata": {},
   "outputs": [],
   "source": [
    "## データ読み込み\n",
    "df_train = pd.read_csv(\"../data/train_set.csv\", low_memory=False)\n",
    "df_test = pd.read_csv(\"../data/test_set.csv\", low_memory=False)"
   ]
  },
  {
   "cell_type": "code",
   "execution_count": 4,
   "metadata": {},
   "outputs": [],
   "source": [
    "## 前処理＠Residential\n",
    "# 変数選択\n",
    "nc_resi = [\"BATHRM\", \"EYB\"]\n",
    "cc_resi = [\"QUADRANT\"]\n",
    "# 前処理\n",
    "dp_resi = DP()\n",
    "dp_resi.load_dataframe(df_train.query('SOURCE==\"Residential\"'), df_test.query('SOURCE==\"Residential\"'))\n",
    "dp_resi.set_cols(num_cols=nc_resi, cat_cols=cc_resi)\n",
    "dp_resi.compile()\n",
    "\n",
    "## 前処理＠Condominium\n",
    "# 変数選択\n",
    "nc_cond = [\"BATHRM\", \"EYB\"]\n",
    "cc_cond = [\"QUADRANT\"]\n",
    "# 前処理\n",
    "dp_cond = DP()\n",
    "dp_cond.load_dataframe(df_train.query('SOURCE==\"Condominium\"'), df_test.query('SOURCE==\"Condominium\"'))\n",
    "dp_cond.set_cols(num_cols=nc_cond, cat_cols=cc_cond)\n",
    "dp_cond.compile()\n",
    "\n",
    "\n",
    "## モデルの準備＠Residential\n",
    "mb_resi = MB()\n",
    "mb_resi.compile(models=[\"LGB\"])\n",
    "\n",
    "## モデルの準備＠Condominium\n",
    "mb_cond = MB()\n",
    "mb_cond.compile(models=[\"LGB\"])"
   ]
  },
  {
   "cell_type": "code",
   "execution_count": 5,
   "metadata": {},
   "outputs": [
    {
     "name": "stdout",
     "output_type": "stream",
     "text": [
      "Residential\n",
      "MSE  : 0.41148120228468615\n",
      "MSLE : 0.002373805802065891\n",
      "~~~~~~~~~~~~~~~~~~~~~~~~~~~~~~\n",
      "Condominium\n",
      "MSE  : 0.6073580373613809\n",
      "MSLE : 0.00292177790843747\n"
     ]
    }
   ],
   "source": [
    "## 検証＠Residential\n",
    "x_tr_resi, x_vl_resi, y_tr_resi, y_vl_resi = dp_resi.get_validation_data()\n",
    "# 学習＆予測\n",
    "mb_resi.train(x_tr_resi, np.log1p(y_tr_resi))\n",
    "y_pre_resi = mb_resi.predict(x_vl_resi)\n",
    "# 評価\n",
    "print(\"Residential\")\n",
    "_ = mb_resi.evaluate(y_pre_resi, np.log1p(y_vl_resi))\n",
    "\n",
    "print(\"~\"*30)\n",
    "\n",
    "## 検証＠Condominium\n",
    "x_tr_cond, x_vl_cond, y_tr_cond, y_vl_cond = dp_cond.get_validation_data()\n",
    "# 学習＆予測\n",
    "mb_cond.train(x_tr_cond, np.log1p(y_tr_cond))\n",
    "y_pre_cond = mb_cond.predict(x_vl_cond)\n",
    "# 評価\n",
    "print(\"Condominium\")\n",
    "_ = mb_cond.evaluate(y_pre_cond, np.log1p(y_vl_cond))"
   ]
  },
  {
   "cell_type": "code",
   "execution_count": 15,
   "metadata": {},
   "outputs": [],
   "source": [
    "## 提出用に学習\n",
    "mb_resi.train(dp_resi.x_train, np.log1p(dp_resi.y_train))\n",
    "mb_cond.train(dp_cond.x_train, np.log1p(dp_cond.y_train))\n",
    "\n",
    "## 提出用に予測\n",
    "y_pred_resi = mb_resi.predict(dp_resi.x_test)\n",
    "y_pred_cond = mb_cond.predict(dp_cond.x_test)\n",
    "\n",
    "## 提出用csv作成\n",
    "submit_resi = PP.make_submit_csv(np.expm1(y_pred_resi), dp_resi.x_test)\n",
    "submit_cond = PP.make_submit_csv(np.expm1(y_pred_cond), dp_cond.x_test)\n",
    "submit = pd.concat([submit_resi, submit_cond], axis=0)\n",
    "submit[\"Id\"] = df_test[\"Id\"]\n",
    "submit = submit[[\"Id\", \"PRICE\"]]\n",
    "\n",
    "## 結果保存\n",
    "fn = dt.now().strftime(\"%Y%m%d_%H%M%S\") + \".csv\"\n",
    "submit.to_csv(\"../data/submit/\"+fn, header=True, index=False)"
   ]
  },
  {
   "cell_type": "code",
   "execution_count": null,
   "metadata": {},
   "outputs": [],
   "source": []
  }
 ],
 "metadata": {
  "kernelspec": {
   "display_name": "Python 3",
   "language": "python",
   "name": "python3"
  },
  "language_info": {
   "codemirror_mode": {
    "name": "ipython",
    "version": 3
   },
   "file_extension": ".py",
   "mimetype": "text/x-python",
   "name": "python",
   "nbconvert_exporter": "python",
   "pygments_lexer": "ipython3",
   "version": "3.6.7"
  }
 },
 "nbformat": 4,
 "nbformat_minor": 2
}
