{
 "cells": [
  {
   "cell_type": "code",
   "execution_count": 1,
   "metadata": {},
   "outputs": [],
   "source": [
    "from datetime import datetime as dt\n",
    "\n",
    "import numpy as np\n",
    "import pandas as pd\n",
    "import matplotlib.pyplot as plt\n",
    "%matplotlib inline\n",
    "\n",
    "from sklearn.metrics import mean_squared_error, mean_squared_log_error\n",
    "from sklearn.model_selection import train_test_split\n",
    "\n",
    "import xgboost as xgb\n",
    "import lightgbm as lgb"
   ]
  },
  {
   "cell_type": "code",
   "execution_count": 2,
   "metadata": {},
   "outputs": [],
   "source": [
    "## 読み込み\n",
    "df_train = pd.read_csv(\"../data/train_set.csv\", low_memory=False)\n",
    "df_test = pd.read_csv(\"../data/test_set.csv\", low_memory=False)"
   ]
  },
  {
   "cell_type": "code",
   "execution_count": 3,
   "metadata": {},
   "outputs": [],
   "source": [
    "## 必要なカラムを抽出、カテゴリ変数はダミー変数化\n",
    "def extract_columns(df_train, df_test, num_var=None, cat_var=None):\n",
    "    df_x = pd.concat([df_train, df_test], axis=0)\n",
    "    df_x = pd.concat([df_x[num_var], pd.get_dummies(df_x[cat_var])], axis=1)\n",
    "    df_train_x = df_x.iloc[:df_train.shape[0],:]\n",
    "    df_test_x  = df_x.iloc[df_train.shape[0]:,:]\n",
    "    return df_train_x, df_test_x\n",
    "\n",
    "## 学習＆予測する関数を定義\n",
    "def train_and_predict(x_train, y_train, x_test, mode=\"lgb\"):\n",
    "    ## モデルを準備\n",
    "    if mode == \"lgb\":\n",
    "        clf = lgb.LGBMRegressor(objective='regression',num_leaves=5,\n",
    "                 learning_rate=0.05, n_estimators=2000,\n",
    "                 max_bin = 55, bagging_fraction = 0.8,\n",
    "                 bagging_freq = 5, feature_fraction = 0.2319,\n",
    "                 feature_fraction_seed=9, bagging_seed=9,\n",
    "                 min_data_in_leaf =6, min_sum_hessian_in_leaf = 11)\n",
    "    else:\n",
    "        clf = xgb.XGBRegressor(\n",
    "            learning_rate=0.01,\n",
    "            n_estimators=2000,\n",
    "            max_depth=6)\n",
    "\n",
    "    ## 学習\n",
    "    clf.fit(x_train, np.log(y_train))\n",
    "    ## 予測\n",
    "    y_pred = clf.predict(x_test)\n",
    "    return clf, y_pred"
   ]
  },
  {
   "cell_type": "code",
   "execution_count": 4,
   "metadata": {},
   "outputs": [],
   "source": [
    "## ResidentialとCondominiumに分割\n",
    "df_train_resi = df_train.query('SOURCE == \"Residential\"')\n",
    "df_train_cond = df_train.query('SOURCE == \"Condominium\"')\n",
    "df_test_resi = df_test.query('SOURCE == \"Residential\"')\n",
    "df_test_cond = df_test.query('SOURCE == \"Condominium\"')"
   ]
  },
  {
   "cell_type": "code",
   "execution_count": 5,
   "metadata": {},
   "outputs": [],
   "source": [
    "## xの準備\n",
    "num_var_resi = [\"BATHRM\", \"EYB\", \"LONGITUDE\", \"FIREPLACES\", \"SALE_NUM\", \"CMPLX_NUM\", \"CENSUS_TRACT\", \"LIVING_GBA\"]\n",
    "cat_var_resi = [\"QUADRANT\", \"CNDTN\", \"WARD\", \"AC\", \"QUALIFIED\"]\n",
    "df_train_resi_x, df_test_resi_x = extract_columns(df_train_resi.iloc[:,:-1], df_test_resi, num_var=num_var_resi, cat_var=cat_var_resi)\n",
    "\n",
    "num_var_cond = [\"BATHRM\", \"EYB\", \"LONGITUDE\", \"FIREPLACES\", \"SALE_NUM\", \"CMPLX_NUM\", \"CENSUS_TRACT\", \"LIVING_GBA\"]\n",
    "cat_var_cond = [\"QUADRANT\", \"CNDTN\", \"WARD\", \"AC\", \"QUALIFIED\"]\n",
    "df_train_cond_x, df_test_cond_x = extract_columns(df_train_cond.iloc[:,:-1], df_test_cond, num_var=num_var_cond, cat_var=cat_var_cond)\n",
    "\n",
    "## yの準備\n",
    "df_train_resi_y = df_train_resi[[\"PRICE\"]]\n",
    "df_train_cond_y = df_train_cond[[\"PRICE\"]]"
   ]
  },
  {
   "cell_type": "code",
   "execution_count": 9,
   "metadata": {},
   "outputs": [
    {
     "name": "stdout",
     "output_type": "stream",
     "text": [
      "MSE 0.2256695971920721\n"
     ]
    }
   ],
   "source": [
    "#### 検証用のやつ\n",
    "## 検証用にデータを準備\n",
    "x_train_resi, x_valid_resi, y_train_resi, y_valid_resi = train_test_split(df_train_resi_x, df_train_resi_y, test_size=0.2, random_state=123)\n",
    "\n",
    "## 予測\n",
    "clf_valid, y_pred = train_and_predict(x_train_resi, y_train_resi, x_valid_resi)#, mode=\"xgb\")\n",
    "\n",
    "## 結果\n",
    "mse = mean_squared_error(y_pred, np.log(y_valid_resi))\n",
    "# msle = mean_squared_log_error(y_pred, np.log(y_valid_resi))\n",
    "\n",
    "# mse\n",
    "print(\"MSE\", mse)\n",
    "# print(\"MSLE\", msle)\n",
    "# 比較\n",
    "df_valid_pred = pd.DataFrame(np.exp(y_pred), index=x_valid_resi.index, columns=[\"PRED\"])\n",
    "# display(pd.concat([y_valid_resi.astype(int), df_valid_pred.astype(int)], axis=1).head(20))"
   ]
  },
  {
   "cell_type": "code",
   "execution_count": null,
   "metadata": {},
   "outputs": [],
   "source": [
    "train_and_predict(x_train)"
   ]
  }
 ],
 "metadata": {
  "kernelspec": {
   "display_name": "Python 3",
   "language": "python",
   "name": "python3"
  },
  "language_info": {
   "codemirror_mode": {
    "name": "ipython",
    "version": 3
   },
   "file_extension": ".py",
   "mimetype": "text/x-python",
   "name": "python",
   "nbconvert_exporter": "python",
   "pygments_lexer": "ipython3",
   "version": "3.6.7"
  }
 },
 "nbformat": 4,
 "nbformat_minor": 2
}
