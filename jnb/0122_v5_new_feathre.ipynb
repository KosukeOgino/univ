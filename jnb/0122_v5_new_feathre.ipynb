{
 "cells": [
  {
   "cell_type": "code",
   "execution_count": 2,
   "metadata": {},
   "outputs": [],
   "source": [
    "import warnings\n",
    "def ignore_warn(*args, **kwargs):\n",
    "    pass\n",
    "warnings.warn = ignore_warn #ignore annoying warning (from sklearn and seaborn)\n",
    "\n",
    "import numpy as np\n",
    "import pandas as pd\n",
    "\n",
    "%matplotlib inline\n",
    "import matplotlib.pyplot as plt  # Matlab-style plotting\n",
    "import seaborn as sns\n",
    "color = sns.color_palette()\n",
    "sns.set_style('darkgrid')\n",
    "\n",
    "from scipy import stats\n",
    "from scipy.stats import norm, skew #for some statistics\n",
    "from scipy.special import boxcox1p"
   ]
  },
  {
   "cell_type": "code",
   "execution_count": 3,
   "metadata": {},
   "outputs": [],
   "source": [
    "## データ読み込み\n",
    "train_org = pd.read_csv(\"../data/train_set.csv\", low_memory=False)\n",
    "test_org = pd.read_csv(\"../data/test_set.csv\", low_memory=False)"
   ]
  },
  {
   "cell_type": "code",
   "execution_count": 4,
   "metadata": {},
   "outputs": [],
   "source": [
    "## データの準備\n",
    "df_all = pd.concat([train_org, test_org], axis=0).reset_index(drop=True)\n",
    "df_all = df_all.drop([\"PRICE\"], axis=1)\n",
    "\n",
    "all_r = df_all.query('SOURCE==\"Residential\"')\n",
    "all_c = df_all.query('SOURCE==\"Condominium\"')"
   ]
  },
  {
   "cell_type": "code",
   "execution_count": 14,
   "metadata": {},
   "outputs": [],
   "source": [
    "all_r[\"SALE_YEAR\"] = pd.to_datetime(all_r[\"SALEDATE\"]).dt.year"
   ]
  },
  {
   "cell_type": "code",
   "execution_count": 17,
   "metadata": {},
   "outputs": [],
   "source": [
    "all_r[\"SALE-AYB\"] = all_r[\"SALE_YEAR\"] - all_r[\"AYB\"]\n",
    "all_r[\"SALE-RMDL\"] = all_r[\"SALE_YEAR\"] - all_r[\"YR_RMDL\"]"
   ]
  },
  {
   "cell_type": "code",
   "execution_count": 26,
   "metadata": {},
   "outputs": [
    {
     "name": "stdout",
     "output_type": "stream",
     "text": [
      "(49108, 48)\n"
     ]
    },
    {
     "data": {
      "text/plain": [
       "(49108, 48)"
      ]
     },
     "execution_count": 26,
     "metadata": {},
     "output_type": "execute_result"
    }
   ],
   "source": [
    "print(test_org.shape)\n",
    "test_org.drop_duplicates().shape"
   ]
  }
 ],
 "metadata": {
  "kernelspec": {
   "display_name": "Python 3",
   "language": "python",
   "name": "python3"
  },
  "language_info": {
   "codemirror_mode": {
    "name": "ipython",
    "version": 3
   },
   "file_extension": ".py",
   "mimetype": "text/x-python",
   "name": "python",
   "nbconvert_exporter": "python",
   "pygments_lexer": "ipython3",
   "version": "3.6.7"
  }
 },
 "nbformat": 4,
 "nbformat_minor": 2
}
