{
 "cells": [
  {
   "cell_type": "code",
   "execution_count": 1,
   "metadata": {},
   "outputs": [],
   "source": [
    "import warnings\n",
    "def ignore_warn(*args, **kwargs):\n",
    "    pass\n",
    "warnings.warn = ignore_warn #ignore annoying warning (from sklearn and seaborn)\n",
    "\n",
    "import numpy as np\n",
    "import pandas as pd\n",
    "\n",
    "%matplotlib inline\n",
    "import matplotlib.pyplot as plt  # Matlab-style plotting\n",
    "import seaborn as sns\n",
    "color = sns.color_palette()\n",
    "sns.set_style('darkgrid')\n",
    "\n",
    "from scipy import stats\n",
    "from scipy.stats import norm, skew #for some statistics"
   ]
  },
  {
   "cell_type": "code",
   "execution_count": 2,
   "metadata": {},
   "outputs": [],
   "source": [
    "## データ読み込み\n",
    "train_org = pd.read_csv(\"../data/train_set.csv\", low_memory=False)\n",
    "test_org = pd.read_csv(\"../data/test_set.csv\", low_memory=False)"
   ]
  },
  {
   "cell_type": "code",
   "execution_count": 3,
   "metadata": {},
   "outputs": [],
   "source": [
    "# ## 外れ値除去\n",
    "# train = train_org.drop(\n",
    "#     train_org[(train_org[\"PRICE\"]>=100000000) | (train_org[\"PRICE\"]<=500)].index\n",
    "# )"
   ]
  },
  {
   "cell_type": "code",
   "execution_count": 4,
   "metadata": {},
   "outputs": [],
   "source": [
    "## データの準備\n",
    "df_all = pd.concat([train_org, test_org], axis=0).reset_index(drop=True)\n",
    "df_all = df_all.drop([\"PRICE\"], axis=1)\n",
    "\n",
    "all_r = df_all.query('SOURCE==\"Residential\"')\n",
    "all_c = df_all.query('SOURCE==\"Condominium\"')"
   ]
  },
  {
   "cell_type": "code",
   "execution_count": 5,
   "metadata": {},
   "outputs": [
    {
     "data": {
      "text/plain": [
       "AC                      0.000000\n",
       "ASSESSMENT_NBHD         0.000000\n",
       "ASSESSMENT_SUBNBHD     13.823834\n",
       "AYB                     0.164076\n",
       "BATHRM                  0.000000\n",
       "BEDRM                   0.000000\n",
       "BLDG_NUM                0.000000\n",
       "CENSUS_BLOCK            0.571675\n",
       "CENSUS_TRACT            0.000000\n",
       "CITY                    0.571675\n",
       "CMPLX_NUM             100.000000\n",
       "CNDTN                   0.000000\n",
       "EXTWALL                 0.000000\n",
       "EYB                     0.000000\n",
       "FIREPLACES              0.000000\n",
       "FULLADDRESS             0.578584\n",
       "GBA                     0.000000\n",
       "GIS_LAST_MOD_DTTM       0.000000\n",
       "GRADE                   0.000000\n",
       "HEAT                    0.000000\n",
       "HF_BATHRM               0.000000\n",
       "INTWALL                 0.000000\n",
       "Id                      0.000000\n",
       "KITCHENS                0.001727\n",
       "LANDAREA                0.000000\n",
       "LATITUDE                0.000000\n",
       "LIVING_GBA            100.000000\n",
       "LONGITUDE               0.000000\n",
       "NATIONALGRID            0.571675\n",
       "NUM_UNITS               0.000000\n",
       "QUADRANT                0.174439\n",
       "QUALIFIED               0.000000\n",
       "ROOF                    0.000000\n",
       "ROOMS                   0.000000\n",
       "SALEDATE                0.001727\n",
       "SALE_NUM                0.000000\n",
       "SOURCE                  0.000000\n",
       "SQUARE                  0.000000\n",
       "STATE                   0.571675\n",
       "STORIES                 0.056995\n",
       "STRUCT                  0.000000\n",
       "STYLE                   0.000000\n",
       "USECODE                 0.000000\n",
       "WARD                    0.000000\n",
       "X                       0.174439\n",
       "Y                       0.174439\n",
       "YR_RMDL                42.630397\n",
       "ZIPCODE                 0.000000\n",
       "dtype: float64"
      ]
     },
     "metadata": {},
     "output_type": "display_data"
    },
    {
     "name": "stdout",
     "output_type": "stream",
     "text": [
      "\n"
     ]
    },
    {
     "data": {
      "text/plain": [
       "AC                      0.000000\n",
       "ASSESSMENT_NBHD         0.000000\n",
       "ASSESSMENT_SUBNBHD     30.387439\n",
       "AYB                     0.042167\n",
       "BATHRM                  0.000000\n",
       "BEDRM                   0.000000\n",
       "BLDG_NUM                0.000000\n",
       "CENSUS_BLOCK          100.000000\n",
       "CENSUS_TRACT            0.000000\n",
       "CITY                  100.000000\n",
       "CMPLX_NUM               0.000000\n",
       "CNDTN                 100.000000\n",
       "EXTWALL               100.000000\n",
       "EYB                     0.000000\n",
       "FIREPLACES              0.000000\n",
       "FULLADDRESS           100.000000\n",
       "GBA                   100.000000\n",
       "GIS_LAST_MOD_DTTM       0.000000\n",
       "GRADE                 100.000000\n",
       "HEAT                    0.000000\n",
       "HF_BATHRM               0.000000\n",
       "INTWALL               100.000000\n",
       "Id                      0.000000\n",
       "KITCHENS              100.000000\n",
       "LANDAREA                0.000000\n",
       "LATITUDE                0.000000\n",
       "LIVING_GBA              0.000000\n",
       "LONGITUDE               0.000000\n",
       "NATIONALGRID          100.000000\n",
       "NUM_UNITS             100.000000\n",
       "QUADRANT                0.000000\n",
       "QUALIFIED               0.000000\n",
       "ROOF                  100.000000\n",
       "ROOMS                   0.000000\n",
       "SALEDATE                0.000000\n",
       "SALE_NUM                0.000000\n",
       "SOURCE                  0.000000\n",
       "SQUARE                  0.000000\n",
       "STATE                 100.000000\n",
       "STORIES               100.000000\n",
       "STRUCT                100.000000\n",
       "STYLE                 100.000000\n",
       "USECODE                 0.000000\n",
       "WARD                    0.000000\n",
       "X                       0.000000\n",
       "Y                       0.000000\n",
       "YR_RMDL                39.336740\n",
       "ZIPCODE                 0.000000\n",
       "dtype: float64"
      ]
     },
     "metadata": {},
     "output_type": "display_data"
    }
   ],
   "source": [
    "## 欠損率チェック\n",
    "display(all_r.isnull().sum() / all_r.shape[0] * 100)\n",
    "print()\n",
    "display(all_c.isnull().sum() / all_c.shape[0] * 100)"
   ]
  },
  {
   "cell_type": "raw",
   "metadata": {},
   "source": [
    "# memo\n",
    "・ASSESSMENT_SUBNBHD(サブ近隣ID)と、YR_RMDL(リフォーム年)がよく欠損している様子\n",
    "\n",
    "・サブ近隣IDは、ASSESSMENT_NBHD(近隣ID)があれば良さそうなので無視\n",
    "\n",
    "・年は重要そうな情報なので、\n",
    " 1. AYBの欠損をEYBで\n",
    " 2. YR_RMDLの欠損をAYBで\n",
    "\n",
    "で補完します"
   ]
  },
  {
   "cell_type": "code",
   "execution_count": 6,
   "metadata": {},
   "outputs": [],
   "source": [
    "## 欠損値補完\n",
    "df_all.loc[df_all[\"AYB\"].isnull(), \"AYB\"] = df_all[df_all[\"AYB\"].isnull()][\"EYB\"]\n",
    "df_all.loc[df_all[\"YR_RMDL\"].isnull(), \"YR_RMDL\"] = df_all[df_all[\"YR_RMDL\"].isnull()][\"AYB\"]\n",
    "\n",
    "all_r = df_all.query('SOURCE==\"Residential\"')\n",
    "all_c = df_all.query('SOURCE==\"Condominium\"')"
   ]
  },
  {
   "cell_type": "code",
   "execution_count": 7,
   "metadata": {},
   "outputs": [
    {
     "data": {
      "text/plain": [
       "AC                      0.000000\n",
       "ASSESSMENT_NBHD         0.000000\n",
       "ASSESSMENT_SUBNBHD     13.823834\n",
       "AYB                     0.000000\n",
       "BATHRM                  0.000000\n",
       "BEDRM                   0.000000\n",
       "BLDG_NUM                0.000000\n",
       "CENSUS_BLOCK            0.571675\n",
       "CENSUS_TRACT            0.000000\n",
       "CITY                    0.571675\n",
       "CMPLX_NUM             100.000000\n",
       "CNDTN                   0.000000\n",
       "EXTWALL                 0.000000\n",
       "EYB                     0.000000\n",
       "FIREPLACES              0.000000\n",
       "FULLADDRESS             0.578584\n",
       "GBA                     0.000000\n",
       "GIS_LAST_MOD_DTTM       0.000000\n",
       "GRADE                   0.000000\n",
       "HEAT                    0.000000\n",
       "HF_BATHRM               0.000000\n",
       "INTWALL                 0.000000\n",
       "Id                      0.000000\n",
       "KITCHENS                0.001727\n",
       "LANDAREA                0.000000\n",
       "LATITUDE                0.000000\n",
       "LIVING_GBA            100.000000\n",
       "LONGITUDE               0.000000\n",
       "NATIONALGRID            0.571675\n",
       "NUM_UNITS               0.000000\n",
       "QUADRANT                0.174439\n",
       "QUALIFIED               0.000000\n",
       "ROOF                    0.000000\n",
       "ROOMS                   0.000000\n",
       "SALEDATE                0.001727\n",
       "SALE_NUM                0.000000\n",
       "SOURCE                  0.000000\n",
       "SQUARE                  0.000000\n",
       "STATE                   0.571675\n",
       "STORIES                 0.056995\n",
       "STRUCT                  0.000000\n",
       "STYLE                   0.000000\n",
       "USECODE                 0.000000\n",
       "WARD                    0.000000\n",
       "X                       0.174439\n",
       "Y                       0.174439\n",
       "YR_RMDL                 0.000000\n",
       "ZIPCODE                 0.000000\n",
       "dtype: float64"
      ]
     },
     "metadata": {},
     "output_type": "display_data"
    },
    {
     "name": "stdout",
     "output_type": "stream",
     "text": [
      "\n"
     ]
    },
    {
     "data": {
      "text/plain": [
       "AC                      0.000000\n",
       "ASSESSMENT_NBHD         0.000000\n",
       "ASSESSMENT_SUBNBHD     30.387439\n",
       "AYB                     0.000000\n",
       "BATHRM                  0.000000\n",
       "BEDRM                   0.000000\n",
       "BLDG_NUM                0.000000\n",
       "CENSUS_BLOCK          100.000000\n",
       "CENSUS_TRACT            0.000000\n",
       "CITY                  100.000000\n",
       "CMPLX_NUM               0.000000\n",
       "CNDTN                 100.000000\n",
       "EXTWALL               100.000000\n",
       "EYB                     0.000000\n",
       "FIREPLACES              0.000000\n",
       "FULLADDRESS           100.000000\n",
       "GBA                   100.000000\n",
       "GIS_LAST_MOD_DTTM       0.000000\n",
       "GRADE                 100.000000\n",
       "HEAT                    0.000000\n",
       "HF_BATHRM               0.000000\n",
       "INTWALL               100.000000\n",
       "Id                      0.000000\n",
       "KITCHENS              100.000000\n",
       "LANDAREA                0.000000\n",
       "LATITUDE                0.000000\n",
       "LIVING_GBA              0.000000\n",
       "LONGITUDE               0.000000\n",
       "NATIONALGRID          100.000000\n",
       "NUM_UNITS             100.000000\n",
       "QUADRANT                0.000000\n",
       "QUALIFIED               0.000000\n",
       "ROOF                  100.000000\n",
       "ROOMS                   0.000000\n",
       "SALEDATE                0.000000\n",
       "SALE_NUM                0.000000\n",
       "SOURCE                  0.000000\n",
       "SQUARE                  0.000000\n",
       "STATE                 100.000000\n",
       "STORIES               100.000000\n",
       "STRUCT                100.000000\n",
       "STYLE                 100.000000\n",
       "USECODE                 0.000000\n",
       "WARD                    0.000000\n",
       "X                       0.000000\n",
       "Y                       0.000000\n",
       "YR_RMDL                 0.000000\n",
       "ZIPCODE                 0.000000\n",
       "dtype: float64"
      ]
     },
     "metadata": {},
     "output_type": "display_data"
    }
   ],
   "source": [
    "## 欠損率チェック\n",
    "display(all_r.isnull().sum() / all_r.shape[0] * 100)\n",
    "print()\n",
    "display(all_c.isnull().sum() / all_c.shape[0] * 100)"
   ]
  },
  {
   "cell_type": "raw",
   "metadata": {},
   "source": [
    "# memo\n",
    "\n",
    "## Condominium\n",
    "これで完成\n",
    "\n",
    "## Residential\n",
    "欠損があるパラメータは\n",
    "\n",
    "### 0.571814 %\n",
    " - FULLADDRESS, NATIONALGRID\n",
    "   - 種類が多すぎて使い物にならないのでとりあえず除外\n",
    " - CENSUS_BLOCK\n",
    "   - CENSUS_TRACKで十分そうなので除外\n",
    " - CITY, STATE\n",
    "   - WASHINGTON DCしかないので除外\n",
    "\n",
    "\n",
    "### 0.174481 %\n",
    " - X, Y\n",
    "   - LONGITUDEとLATITUDEとほぼ同じ値なので除外\n",
    " - QUADRANT\n",
    "   - LONGITUDEとLATITUDEから補完できそうだけど面倒なので \"一旦\" 除外\n",
    "\n",
    "\n",
    "### 0.057009 %\n",
    " - STORIES\n",
    "   - STYLEから補完できそう\n",
    "\n",
    "\n",
    "### 0.001728 %\n",
    " - SALEDATE\n",
    "   - ID:26034 の物件。ひとつとなりのID:26035のデータと酷似しており、Trainデータのため、この１レコードのみ除去\n",
    " - KITCHENS\n",
    "   - ID:76393 の物件。同じユニット数/部屋数/ベッドルーム数で絞ると、大半がキッチン数１なので、１で補完\n",
    "\n"
   ]
  },
  {
   "cell_type": "code",
   "execution_count": 8,
   "metadata": {},
   "outputs": [],
   "source": [
    "## STORIESを補完\n",
    "story_tmp = all_r[all_r[\"STORIES\"].isnull()][\"STYLE\"]\n",
    "story_tmp = story_tmp.replace(\" \",\"\", regex=True)\n",
    "story_tmp = story_tmp.replace(\"Story\",\"\", regex=True)\n",
    "story_tmp = story_tmp.replace(\"Fin\",\"\", regex=True)\n",
    "story_tmp = story_tmp.replace(\"Unfin\",\"\", regex=True)\n",
    "story_tmp = story_tmp.astype(np.float64)\n",
    "\n",
    "all_r.loc[all_r[\"STORIES\"].isnull(), \"STORIES\"] = story_tmp"
   ]
  },
  {
   "cell_type": "code",
   "execution_count": null,
   "metadata": {},
   "outputs": [],
   "source": []
  }
 ],
 "metadata": {
  "kernelspec": {
   "display_name": "Python 3",
   "language": "python",
   "name": "python3"
  },
  "language_info": {
   "codemirror_mode": {
    "name": "ipython",
    "version": 3
   },
   "file_extension": ".py",
   "mimetype": "text/x-python",
   "name": "python",
   "nbconvert_exporter": "python",
   "pygments_lexer": "ipython3",
   "version": "3.6.7"
  }
 },
 "nbformat": 4,
 "nbformat_minor": 2
}
